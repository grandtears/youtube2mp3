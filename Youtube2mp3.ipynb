{
  "nbformat": 4,
  "nbformat_minor": 0,
  "metadata": {
    "colab": {
      "provenance": [],
      "authorship_tag": "ABX9TyM59shdZTKtDzELgXKaVf8f",
      "include_colab_link": true
    },
    "kernelspec": {
      "name": "python3",
      "display_name": "Python 3"
    },
    "language_info": {
      "name": "python"
    }
  },
  "cells": [
    {
      "cell_type": "markdown",
      "metadata": {
        "id": "view-in-github",
        "colab_type": "text"
      },
      "source": [
        "<a href=\"https://colab.research.google.com/github/grandtears/youtube2mp3/blob/master/Youtube2mp3.ipynb\" target=\"_parent\"><img src=\"https://colab.research.google.com/assets/colab-badge.svg\" alt=\"Open In Colab\"/></a>"
      ]
    },
    {
      "cell_type": "code",
      "execution_count": null,
      "metadata": {
        "id": "FZC991v3SkCc"
      },
      "outputs": [],
      "source": [
        "#@title Youtube2mp3\n",
        "from google.colab import files\n",
        "from datetime import datetime\n",
        "\n",
        "youtube_url = \"\" #@param {type:\"string\"}\n",
        "\n",
        "\n",
        "now = datetime.now()\n",
        "\n",
        "formatted_now = now.strftime('%Y%m%d%H%M%S')\n",
        "\n",
        "output_file_name = \"youtubeoutput\"+formatted_now+\".mp3\";\n",
        "\n",
        "!pip install yt-dlp\n",
        "!yt-dlp -x --audio-format mp3 {youtube_url} -o {output_file_name}\n",
        "\n",
        "files.download(output_file_name)"
      ]
    }
  ]
}